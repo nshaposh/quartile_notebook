{
 "cells": [
  {
   "cell_type": "code",
   "execution_count": 1,
   "metadata": {},
   "outputs": [
    {
     "name": "stdout",
     "output_type": "stream",
     "text": [
      "We are going to calculate minimum, maximun, median and quartiles for array [67, 63, 61, 74, 65, 73, 63, 71, 68, 66, 66, 68]\n",
      "\n",
      "------------------------------\n",
      "\n",
      "Maximum = 74\n",
      "Minimum = 61\n",
      "------------------------------\n",
      "\n",
      "calculating median for even number of elements\n",
      "Median = 66.5\n",
      "------------------------------\n",
      "\n",
      "First quartile =  64.0\n",
      "------------------------------\n",
      "\n",
      "Third quartile =  69.5\n"
     ]
    }
   ],
   "source": [
    "array = [67,63,61,74,65,73,63,71,68,66,66,68]\n",
    "print(f\"We are going to calculate minimum, maximun, median and quartiles for array {array}\\n\")\n",
    "print(\"------------------------------\\n\")\n",
    "\n",
    "\n",
    "array_max = max(array)\n",
    "array_min = min(array)\n",
    "print(f\"Maximum = {array_max}\")\n",
    "print(f\"Minimum = {array_min}\")\n",
    "print(\"------------------------------\\n\")\n",
    "\n",
    "ordered_array=sorted(array)\n",
    "size_of_array = len(array)\n",
    "\n",
    "if len(array)%2 ==0:\n",
    "    print(\"calculating median for even number of elements\")\n",
    "    median = (ordered_array[size_of_array//2-1]+ordered_array[size_of_array//2])/2\n",
    "else:\n",
    "    print(\"calculating median for odd number of elements\")\n",
    "    median = ordered_array[size_of_array//2]\n",
    "\n",
    "print(f\"Median = {median}\")\n",
    "print(\"------------------------------\\n\")\n",
    "\n",
    "first_half = ordered_array[0:size_of_array//2]\n",
    "size_of_array = len(first_half)\n",
    "if size_of_array%2 ==0:\n",
    "    #print(\"calculating for even number of elements\")\n",
    "    first_quartile = (first_half[size_of_array//2-1]+first_half[size_of_array//2])/2\n",
    "else:\n",
    "    #print(\"calculating for odd number of elements\")\n",
    "    first_quartile = first_half[size_of_array//2]\n",
    "    \n",
    "print(\"First quartile = \",first_quartile)\n",
    "print(\"------------------------------\\n\")\n",
    "second_half = ordered_array[6:]\n",
    "size_of_array = len(second_half)\n",
    "if size_of_array%2 ==0:\n",
    "    #print(\"calculating for even number of elements\")\n",
    "    third_quartile = (second_half[size_of_array//2-1]+second_half[size_of_array//2])/2\n",
    "else:\n",
    "    #print(\"calculating for odd number of elements\")\n",
    "    third_quartile = second_half[size_of_array//2]\n",
    "    \n",
    "print(\"Third quartile = \",third_quartile)"
   ]
  },
  {
   "cell_type": "code",
   "execution_count": null,
   "metadata": {},
   "outputs": [],
   "source": []
  }
 ],
 "metadata": {
  "kernelspec": {
   "display_name": "Python 3",
   "language": "python",
   "name": "python3"
  },
  "language_info": {
   "codemirror_mode": {
    "name": "ipython",
    "version": 3
   },
   "file_extension": ".py",
   "mimetype": "text/x-python",
   "name": "python",
   "nbconvert_exporter": "python",
   "pygments_lexer": "ipython3",
   "version": "3.7.1"
  }
 },
 "nbformat": 4,
 "nbformat_minor": 2
}
