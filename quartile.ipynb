{
 "cells": [
  {
   "cell_type": "code",
   "execution_count": null,
   "metadata": {},
   "outputs": [],
   "source": [
    "array = [67,63,61,74,65,73,63,71,68,66,66,68]"
   ]
  },
  {
   "cell_type": "code",
   "execution_count": null,
   "metadata": {},
   "outputs": [],
   "source": [
    "array"
   ]
  },
  {
   "cell_type": "code",
   "execution_count": null,
   "metadata": {},
   "outputs": [],
   "source": [
    "array_max = max(array)\n",
    "array_min = min(array)"
   ]
  },
  {
   "cell_type": "code",
   "execution_count": null,
   "metadata": {},
   "outputs": [],
   "source": [
    "ordered_array=sorted(array)"
   ]
  },
  {
   "cell_type": "code",
   "execution_count": null,
   "metadata": {},
   "outputs": [],
   "source": [
    "ordered_array"
   ]
  },
  {
   "cell_type": "code",
   "execution_count": null,
   "metadata": {},
   "outputs": [],
   "source": [
    "size_of_array = len(array)"
   ]
  },
  {
   "cell_type": "code",
   "execution_count": null,
   "metadata": {},
   "outputs": [],
   "source": [
    "if len(array)%2 ==0:\n",
    "    print(\"calculating for even number of elements\")\n",
    "    median = (ordered_array[size_of_array//2-1]+ordered_array[size_of_array//2])/2\n",
    "else:\n",
    "    print(\"calculating for odd number of elements\")\n",
    "    median = ordered_array[size_of_array//2]"
   ]
  },
  {
   "cell_type": "code",
   "execution_count": null,
   "metadata": {},
   "outputs": [],
   "source": [
    "median"
   ]
  },
  {
   "cell_type": "code",
   "execution_count": null,
   "metadata": {},
   "outputs": [],
   "source": [
    "first_half = ordered_array[0:size_of_array//2]\n",
    "first_half\n"
   ]
  },
  {
   "cell_type": "code",
   "execution_count": null,
   "metadata": {},
   "outputs": [],
   "source": [
    "size_of_array = len(first_half)\n",
    "if size_of_array%2 ==0:\n",
    "    print(\"calculating for even number of elements\")\n",
    "    first_quartile = (first_half[size_of_array//2-1]+first_half[size_of_array//2])/2\n",
    "else:\n",
    "    print(\"calculating for odd number of elements\")\n",
    "    first_quartile = ordered_array[size_of_array//2]\n",
    "    \n",
    "print(\"First quartile = \",first_quartile)"
   ]
  },
  {
   "cell_type": "code",
   "execution_count": null,
   "metadata": {},
   "outputs": [],
   "source": [
    "second_half = ordered_array[6:]\n",
    "second_half"
   ]
  },
  {
   "cell_type": "code",
   "execution_count": null,
   "metadata": {},
   "outputs": [],
   "source": [
    "size_of_array = len(second_half)\n",
    "if size_of_array%2 ==0:\n",
    "    print(\"calculating for even number of elements\")\n",
    "    third_quartile = (second_half[size_of_array//2-1]+second_half[size_of_array//2])/2\n",
    "else:\n",
    "    print(\"calculating for odd number of elements\")\n",
    "    third_quartile = second_half[size_of_array//2]\n",
    "    \n",
    "print(\"Third quartile = \",third_quartile)"
   ]
  }
 ],
 "metadata": {
  "kernelspec": {
   "display_name": "Python 3",
   "language": "python",
   "name": "python3"
  },
  "language_info": {
   "codemirror_mode": {
    "name": "ipython",
    "version": 3
   },
   "file_extension": ".py",
   "mimetype": "text/x-python",
   "name": "python",
   "nbconvert_exporter": "python",
   "pygments_lexer": "ipython3",
   "version": "3.7.1"
  }
 },
 "nbformat": 4,
 "nbformat_minor": 2
}
